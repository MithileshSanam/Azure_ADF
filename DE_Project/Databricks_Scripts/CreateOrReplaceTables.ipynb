{
 "cells": [
  {
   "cell_type": "code",
   "execution_count": 0,
   "metadata": {
    "application/vnd.databricks.v1+cell": {
     "cellMetadata": {
      "byteLimit": 2048000,
      "rowLimit": 10000
     },
     "inputWidgets": {},
     "nuid": "256f6808-a249-442c-bc6d-48a134c4a112",
     "showTitle": false,
     "tableResultSettingsMap": {},
     "title": ""
    }
   },
   "outputs": [],
   "source": [
    "class CreateOrReplaceTables:\n",
    "    def __init__(self,entity_name,ingestion_layer,truncate_flag,src_df):\n",
    "        self.ingestion_layer = ingestion_layer\n",
    "        self.entity_name = entity_name\n",
    "        self.truncate_flag = truncate_flag\n",
    "        self.src_df = src_df\n",
    "\n",
    "    def generate_src_view(self):\n",
    "        if self.ingestion_layer in [\"bronze\",\"silver\"]:\n",
    "            if self.src_df:\n",
    "                pass\n",
    "            else:\n",
    "                if self.ingestion_layer == \"bronze\":\n",
    "                    src_df= spark.read.parquet(f\"{get_mnt('landing')}/{self.entity_name}/{self.entity_name}.parquet\")\n",
    "                else:\n",
    "                    catalog_name = \"bronze_incremental_schema\" if self.entity_name.endswith('_incremental') else \"bronze_schema\"\n",
    "                    src_df = spark.read.table(f\"{catalog_name}.{self.entity_name.split('_inc')[0]}\")\n",
    "                self.src_df = src_df\n",
    "    \n",
    "    def create_or_replace_table(self,tgt_delta_path):\n",
    "        catalog_name = self.ingestion_layer+\"_incremental_schema\" if self.entity_name.endswith('_incremental') else self.ingestion_layer+\"_schema\"\n",
    "        table_name = self.entity_name.split('_inc')[0]\n",
    "        src_view_name = f\"{self.entity_name}_temp_view\"\n",
    "        self.src_df = self.src_df.withColumn(\"processing_dttm\",current_timestamp())\n",
    "        self.src_df.registerTempTable(src_view_name)\n",
    "        col_names =','.join(self.src_df.columns)\n",
    "        spark.sql(\n",
    "                    f\"\"\"CREATE or REPLACE TABLE {catalog_name}.{table_name}\n",
    "                USING DELTA\n",
    "                LOCATION '{tgt_delta_path}'\n",
    "                AS\n",
    "                SELECT {col_names} FROM {src_view_name}\n",
    "                \"\"\"\n",
    "                )\n",
    "        if self.truncate_flag:\n",
    "            spark.sql(f\"truncate table {catalog_name}.{table_name}\")\n",
    "        spark.sql(f\"DROP VIEW IF EXISTS {src_view_name}\")\n",
    "    \n",
    "    def execute(self):\n",
    "        self.generate_src_view()\n",
    "        mnt_tgt = get_mnt(self.ingestion_layer)\n",
    "        load_type = 'incremental_stg' if self.entity_name.endswith('_incremental') else 'stg'\n",
    "        tgt_delta_path = f\"dbfs:{mnt_tgt}/{self.entity_name.split('_')[0]}/{load_type}/{self.entity_name}_delta\"\n",
    "        self.create_or_replace_table(tgt_delta_path)"
   ]
  },
  {
   "cell_type": "code",
   "execution_count": 0,
   "metadata": {
    "application/vnd.databricks.v1+cell": {
     "cellMetadata": {
      "byteLimit": 2048000,
      "rowLimit": 10000
     },
     "inputWidgets": {},
     "nuid": "0d126831-4465-4465-bf05-c88b49293b0e",
     "showTitle": false,
     "tableResultSettingsMap": {},
     "title": ""
    }
   },
   "outputs": [],
   "source": [
    "def crt_execute(entity_name,ingestion_layer,truncate_flag,src_df):\n",
    "    CreateOrReplaceTables(entity_name,ingestion_layer,truncate_flag,src_df).execute()"
   ]
  }
 ],
 "metadata": {
  "application/vnd.databricks.v1+notebook": {
   "computePreferences": null,
   "dashboards": [],
   "environmentMetadata": {
    "base_environment": "",
    "environment_version": "2"
   },
   "language": "python",
   "notebookMetadata": {
    "mostRecentlyExecutedCommandWithImplicitDF": {
     "commandId": 5258177129652426,
     "dataframes": [
      "_sqldf"
     ]
    },
    "pythonIndentUnit": 4
   },
   "notebookName": "CreateOrReplaceTables",
   "widgets": {
    "custom_df_flag": {
     "currentValue": "",
     "nuid": "2f2534fd-161a-429d-a200-0aa9a02a08a9",
     "typedWidgetInfo": {
      "autoCreated": false,
      "defaultValue": "",
      "label": null,
      "name": "custom_df_flag",
      "options": {
       "widgetDisplayType": "Text",
       "validationRegex": null
      },
      "parameterDataType": "String"
     },
     "widgetInfo": {
      "widgetType": "text",
      "defaultValue": "",
      "label": null,
      "name": "custom_df_flag",
      "options": {
       "widgetType": "text",
       "autoCreated": null,
       "validationRegex": null
      }
     }
    },
    "entity_name": {
     "currentValue": "arancione_incremental",
     "nuid": "24153aca-4ed6-4759-ac97-7860b48c972e",
     "typedWidgetInfo": {
      "autoCreated": false,
      "defaultValue": "",
      "label": null,
      "name": "entity_name",
      "options": {
       "widgetDisplayType": "Text",
       "validationRegex": null
      },
      "parameterDataType": "String"
     },
     "widgetInfo": {
      "widgetType": "text",
      "defaultValue": "",
      "label": null,
      "name": "entity_name",
      "options": {
       "widgetType": "text",
       "autoCreated": null,
       "validationRegex": null
      }
     }
    },
    "ingestion_layer": {
     "currentValue": "silver",
     "nuid": "9a79748a-ced6-4c86-a08a-12c9a2c1f7c3",
     "typedWidgetInfo": {
      "autoCreated": false,
      "defaultValue": "",
      "label": null,
      "name": "ingestion_layer",
      "options": {
       "widgetDisplayType": "Text",
       "validationRegex": null
      },
      "parameterDataType": "String"
     },
     "widgetInfo": {
      "widgetType": "text",
      "defaultValue": "",
      "label": null,
      "name": "ingestion_layer",
      "options": {
       "widgetType": "text",
       "autoCreated": null,
       "validationRegex": null
      }
     }
    },
    "truncate_flag": {
     "currentValue": "",
     "nuid": "bfdc1521-f135-4fcf-9776-672f9a8cddfd",
     "typedWidgetInfo": {
      "autoCreated": false,
      "defaultValue": "",
      "label": null,
      "name": "truncate_flag",
      "options": {
       "widgetDisplayType": "Text",
       "validationRegex": null
      },
      "parameterDataType": "String"
     },
     "widgetInfo": {
      "widgetType": "text",
      "defaultValue": "",
      "label": null,
      "name": "truncate_flag",
      "options": {
       "widgetType": "text",
       "autoCreated": null,
       "validationRegex": null
      }
     }
    }
   }
  },
  "language_info": {
   "name": "python"
  }
 },
 "nbformat": 4,
 "nbformat_minor": 0
}
