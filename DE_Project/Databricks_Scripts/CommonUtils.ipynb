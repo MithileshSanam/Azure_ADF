{
 "cells": [
  {
   "cell_type": "code",
   "execution_count": 0,
   "metadata": {
    "application/vnd.databricks.v1+cell": {
     "cellMetadata": {
      "byteLimit": 2048000,
      "rowLimit": 10000
     },
     "inputWidgets": {},
     "nuid": "4cdd14d1-8d81-4462-925d-bbf07095d31a",
     "showTitle": false,
     "tableResultSettingsMap": {},
     "title": ""
    }
   },
   "outputs": [],
   "source": [
    "from pyspark.sql import DataFrame\n",
    "from pyspark.sql.functions import (\n",
    "    concat_ws,\n",
    "    md5,\n",
    "    col,\n",
    "    current_date,\n",
    "    lit,\n",
    "    current_timestamp,\n",
    "    when,\n",
    "    current_user,\n",
    ")\n",
    "from pyspark.sql.types import TimestampType"
   ]
  },
  {
   "cell_type": "code",
   "execution_count": 0,
   "metadata": {
    "application/vnd.databricks.v1+cell": {
     "cellMetadata": {},
     "inputWidgets": {},
     "nuid": "21c3b266-ee5a-41ff-a5b6-505d28fd7991",
     "showTitle": false,
     "tableResultSettingsMap": {},
     "title": ""
    }
   },
   "outputs": [],
   "source": [
    "%run ./CreateOrReplaceTables"
   ]
  },
  {
   "cell_type": "code",
   "execution_count": 0,
   "metadata": {
    "application/vnd.databricks.v1+cell": {
     "cellMetadata": {},
     "inputWidgets": {},
     "nuid": "05a4e301-8b73-4819-a900-b35699235e44",
     "showTitle": false,
     "tableResultSettingsMap": {},
     "title": ""
    }
   },
   "outputs": [],
   "source": [
    "%run ./SCD_Strategy"
   ]
  },
  {
   "cell_type": "code",
   "execution_count": 0,
   "metadata": {
    "application/vnd.databricks.v1+cell": {
     "cellMetadata": {
      "byteLimit": 2048000,
      "rowLimit": 10000
     },
     "inputWidgets": {},
     "nuid": "5feab3cf-4989-48ea-ae0c-a8cbeee62915",
     "showTitle": false,
     "tableResultSettingsMap": {},
     "title": ""
    }
   },
   "outputs": [],
   "source": [
    "def get_mnt(blobContainerName):\n",
    "    if blobContainerName == \"landing\":\n",
    "        mountPoint = \"/mnt/mithiadls\"\n",
    "    elif blobContainerName == \"bronze\":\n",
    "        mountPoint = \"/mnt/mithiadls_bronze\"\n",
    "    elif blobContainerName == \"silver\":\n",
    "        mountPoint = \"/mnt/mithiadls_silver\"\n",
    "    elif blobContainerName == \"gold\":\n",
    "        mountPoint = \"/mnt/mithiadls_gold\"\n",
    "    return mountPoint"
   ]
  },
  {
   "cell_type": "code",
   "execution_count": 0,
   "metadata": {
    "application/vnd.databricks.v1+cell": {
     "cellMetadata": {
      "byteLimit": 2048000,
      "rowLimit": 10000
     },
     "inputWidgets": {},
     "nuid": "de2a215b-64b2-41b7-ab2d-2dc412943b59",
     "showTitle": false,
     "tableResultSettingsMap": {},
     "title": ""
    }
   },
   "outputs": [],
   "source": [
    "def generate_clean_file(mountPoint,entity_name,df,ingestion_layer):\n",
    "    df.coalesce(1).write.mode(\"overwrite\").parquet(f\"{mountPoint}/{entity_name}/{ingestion_layer}_raw_{entity_name}\")\n",
    "    for file_name in dbutils.fs.ls(f\"{mountPoint}/{entity_name}/{ingestion_layer}_raw_{entity_name}\"):\n",
    "        file_path = file_name.path\n",
    "        if file_path.endswith(\".parquet\"):\n",
    "            parquet_file_path = file_path\n",
    "            break\n",
    "        else:\n",
    "            parquet_file_path = \"\"\n",
    "    if parquet_file_path != \"\":\n",
    "        dbutils.fs.cp(parquet_file_path,f\"{mountPoint}/{entity_name}/{entity_name}.snappy.parquet\")\n",
    "    dbutils.fs.rm(f\"{mountPoint}/{entity_name}/{ingestion_layer}_raw_{entity_name}\",True)\n",
    "        "
   ]
  },
  {
   "cell_type": "code",
   "execution_count": 0,
   "metadata": {
    "application/vnd.databricks.v1+cell": {
     "cellMetadata": {
      "byteLimit": 2048000,
      "rowLimit": 10000
     },
     "inputWidgets": {},
     "nuid": "2b2820a1-139f-45d0-877b-9303fcf592cc",
     "showTitle": false,
     "tableResultSettingsMap": {},
     "title": ""
    }
   },
   "outputs": [],
   "source": [
    "def get_catalog_name(entity_name,ingestion_layer):\n",
    "    catalog_name = ingestion_layer+\"_incremental_schema\" if entity_name.endswith('_incremental') else ingestion_layer+\"_schema\"\n",
    "    return catalog_name"
   ]
  },
  {
   "cell_type": "code",
   "execution_count": 0,
   "metadata": {
    "application/vnd.databricks.v1+cell": {
     "cellMetadata": {
      "byteLimit": 2048000,
      "rowLimit": 10000
     },
     "inputWidgets": {},
     "nuid": "1c0f2021-6e6f-42d7-b5f4-b8513446ed6d",
     "showTitle": false,
     "tableResultSettingsMap": {},
     "title": ""
    }
   },
   "outputs": [],
   "source": [
    "# def add_audit_columns(df,ingestion_layer,entity_name):\n",
    "#     catalog_name = get_catalog_name(entity_name,ingestion_layer)\n",
    "#     is_update = spark.sql(f\"show tables in {catalog_name}\").select('tableName').filter(f\"tableName = '{entity_name.split('_inc')[0]}'\").count() == 1\n",
    "#     if is_update:\n",
    "#         df = df.withColumn(\"modified_by\",current_user())\n",
    "#         df = df.withColumn(\"modified_date\",current_timestamp())\n",
    "#     else:\n",
    "#         df = df.withColumn(\"created_by\",current_user())\n",
    "#         df = df.withColumn(\"created_date\",current_timestamp())\n",
    "#         df = df.withColumn(\"modified_by\",lit(None).cast(TimestampType()))\n",
    "#         df = df.withColumn(\"modified_date\",lit(None).cast(TimestampType()))\n",
    "#     return df"
   ]
  },
  {
   "cell_type": "code",
   "execution_count": 0,
   "metadata": {
    "application/vnd.databricks.v1+cell": {
     "cellMetadata": {
      "byteLimit": 2048000,
      "rowLimit": 10000
     },
     "inputWidgets": {},
     "nuid": "90131dd3-49fd-421d-8d5f-5cf4ea11fab6",
     "showTitle": false,
     "tableResultSettingsMap": {},
     "title": ""
    }
   },
   "outputs": [],
   "source": [
    "# def insert_(mountPoint,entity_name, ingestion_layer):\n",
    "#     ingestion_layer = ingestion_layer+\"_dev\"\n",
    "#     spark.sql(\n",
    "#     f\"\"\"CREATE or REPLACE TABLE {ingestion_layer}.{entity_name}\n",
    "# USING DELTA\n",
    "# LOCATION 'dbfs:{mountPoint}/{entity_name}/{entity_name}_delta'\n",
    "# AS\n",
    "# SELECT * FROM parquet.`dbfs:{mountPoint}/{entity_name}/{entity_name}.snappy.parquet`;\n",
    "# \"\"\"\n",
    "# )"
   ]
  },
  {
   "cell_type": "code",
   "execution_count": 0,
   "metadata": {
    "application/vnd.databricks.v1+cell": {
     "cellMetadata": {
      "byteLimit": 2048000,
      "rowLimit": 10000
     },
     "inputWidgets": {},
     "nuid": "645e4796-e3c1-4ab3-87d0-7aa2a878d5ec",
     "showTitle": false,
     "tableResultSettingsMap": {},
     "title": ""
    }
   },
   "outputs": [],
   "source": [
    "def return_gold_query(entity):\n",
    "    if entity == \"arancione\":\n",
    "        query = f'''select\n",
    "    a.ArancioneID, a.OnlineRetailer, a.SalesMonth, a.Title, a.Vintage, a.Variety, a.Score, a.ListPrice, a.Quantity,\n",
    "    ap.ProductId, ap.Country, ap.DealerPrice, ap.Markup, ap.Province, ap.Region_1, ap.Region_2, ap.Winery, ap.Year\n",
    "\n",
    "    from hive_metastore.silver_incremental_schema.arancione a left join hive_metastore.silver_incremental_schema.arancione_products ap on a.Title = ap.Title and a.Vintage = ap.Vintage and a.Variety = ap.Variety'''\n",
    "    elif entity == \"celeste\":\n",
    "        query = f'''select\n",
    "    c.TransactionId, c.TransactionDate, c.OnlineRetailer, c.SalesMonth, c.SalesRegion, c.SalesCurrency, c.Title, c.Vintage, c.Variety, c.Score, c.ListPrice, c.Quantity,\n",
    "    cp.ProductId, cp.Country, cp.DealerPrice, cp.Markup, cp.Province, cp.Region_1, cp.Region_2, cp.Winery, cp.Year\n",
    "\n",
    "    from hive_metastore.silver_incremental_schema.celeste c left join hive_metastore.silver_incremental_schema.celeste_products cp on c.Title = cp.Title and c.Vintage = cp.Vintage and c.Variety = cp.Variety'''\n",
    "    return query"
   ]
  },
  {
   "cell_type": "code",
   "execution_count": 0,
   "metadata": {
    "application/vnd.databricks.v1+cell": {
     "cellMetadata": {
      "byteLimit": 2048000,
      "rowLimit": 10000
     },
     "inputWidgets": {},
     "nuid": "c0c7b22c-0737-4892-8048-80dd52eaac9c",
     "showTitle": false,
     "tableResultSettingsMap": {},
     "title": ""
    }
   },
   "outputs": [],
   "source": [
    "def pk_map_bronze(entity_name):\n",
    "    mapping = {\n",
    "        \"arancione\": \"ArancioneID\",\n",
    "        \"celeste\": \"TransactionId\",\n",
    "        \"celeste_products\": \"ProductID\",\n",
    "        \"arancione_products\": \"ProductID\"\n",
    "    }\n",
    "    \n",
    "    return mapping[entity_name]\n",
    "\n",
    "def pk_map_gold(entity_name):\n",
    "    mapping = {\n",
    "        \"arancione\": \"ArancioneID,ProductID\",\n",
    "        \"celeste\": \"TransactionId,ProductID\"\n",
    "    }\n",
    "    \n",
    "    return mapping[entity_name]"
   ]
  }
 ],
 "metadata": {
  "application/vnd.databricks.v1+notebook": {
   "computePreferences": null,
   "dashboards": [],
   "environmentMetadata": {
    "base_environment": "",
    "environment_version": "2"
   },
   "language": "python",
   "notebookMetadata": {
    "mostRecentlyExecutedCommandWithImplicitDF": {
     "commandId": 4935040469425957,
     "dataframes": [
      "_sqldf"
     ]
    },
    "pythonIndentUnit": 4
   },
   "notebookName": "CommonUtils",
   "widgets": {}
  },
  "language_info": {
   "name": "python"
  }
 },
 "nbformat": 4,
 "nbformat_minor": 0
}
