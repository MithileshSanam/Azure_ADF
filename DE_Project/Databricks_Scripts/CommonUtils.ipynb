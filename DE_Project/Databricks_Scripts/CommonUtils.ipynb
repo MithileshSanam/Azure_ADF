{
 "cells": [
  {
   "cell_type": "code",
   "execution_count": 0,
   "metadata": {
    "application/vnd.databricks.v1+cell": {
     "cellMetadata": {
      "byteLimit": 2048000,
      "rowLimit": 10000
     },
     "inputWidgets": {},
     "nuid": "5feab3cf-4989-48ea-ae0c-a8cbeee62915",
     "showTitle": false,
     "tableResultSettingsMap": {},
     "title": ""
    }
   },
   "outputs": [],
   "source": [
    "def get_mnt(blobContainerName):\n",
    "    if blobContainerName == \"landing\":\n",
    "        mountPoint = \"/mnt/mithiadls\"\n",
    "    elif blobContainerName == \"bronze\":\n",
    "        mountPoint = \"/mnt/mithiadls_bronze\"\n",
    "    elif blobContainerName == \"silver\":\n",
    "        mountPoint = \"/mnt/mithiadls_silver\"\n",
    "    elif blobContainerName == \"gold\":\n",
    "        mountPoint = \"/mnt/mithiadls_gold\"\n",
    "    return mountPoint"
   ]
  }
 ],
 "metadata": {
  "application/vnd.databricks.v1+notebook": {
   "computePreferences": null,
   "dashboards": [],
   "environmentMetadata": {
    "base_environment": "",
    "environment_version": "2"
   },
   "language": "python",
   "notebookMetadata": {
    "pythonIndentUnit": 4
   },
   "notebookName": "CommonUtils",
   "widgets": {}
  },
  "language_info": {
   "name": "python"
  }
 },
 "nbformat": 4,
 "nbformat_minor": 0
}
