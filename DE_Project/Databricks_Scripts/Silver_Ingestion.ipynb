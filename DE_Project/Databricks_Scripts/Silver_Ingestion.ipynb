{
 "cells": [
  {
   "cell_type": "code",
   "execution_count": 0,
   "metadata": {
    "application/vnd.databricks.v1+cell": {
     "cellMetadata": {
      "byteLimit": 2048000,
      "rowLimit": 10000
     },
     "inputWidgets": {},
     "nuid": "1d13b553-1f67-450c-ae9e-d1181ec24d36",
     "showTitle": false,
     "tableResultSettingsMap": {},
     "title": ""
    }
   },
   "outputs": [],
   "source": [
    "entity_str=[]\n",
    "for substr in dbutils.widgets.get(\"entity_name\").split(\"_\"):\n",
    "    if substr.startswith('inc'):\n",
    "        entity_str.append(substr)\n",
    "    else:\n",
    "        entity_str.append(substr.capitalize())\n",
    "    \n",
    "\n",
    "entity_name = '_'.join(entity_str)"
   ]
  },
  {
   "cell_type": "code",
   "execution_count": 0,
   "metadata": {
    "application/vnd.databricks.v1+cell": {
     "cellMetadata": {
      "byteLimit": 2048000,
      "rowLimit": 10000
     },
     "inputWidgets": {},
     "nuid": "a0a328b1-f53c-44f8-af90-4d4f691a65fd",
     "showTitle": false,
     "tableResultSettingsMap": {},
     "title": ""
    }
   },
   "outputs": [],
   "source": [
    "if entity_name.endswith('incremental'):\n",
    "    load_type = 'incremental'\n",
    "else:\n",
    "    load_type = 'full'"
   ]
  },
  {
   "cell_type": "code",
   "execution_count": 0,
   "metadata": {
    "application/vnd.databricks.v1+cell": {
     "cellMetadata": {
      "byteLimit": 2048000,
      "rowLimit": 10000
     },
     "inputWidgets": {},
     "nuid": "708342b2-05a9-42e8-9a8c-a80ca6fc75be",
     "showTitle": false,
     "tableResultSettingsMap": {},
     "title": ""
    }
   },
   "outputs": [],
   "source": [
    "%run ./CommonUtils"
   ]
  },
  {
   "cell_type": "code",
   "execution_count": 0,
   "metadata": {
    "application/vnd.databricks.v1+cell": {
     "cellMetadata": {
      "byteLimit": 2048000,
      "rowLimit": 10000
     },
     "inputWidgets": {},
     "nuid": "fc8f9eb7-e6d4-4258-88fa-d63f9eacf7bb",
     "showTitle": false,
     "tableResultSettingsMap": {},
     "title": ""
    }
   },
   "outputs": [],
   "source": [
    "if load_type == 'full':\n",
    "    src_df = spark.read.table(f\"hive_metastore.{get_catalog_name(entity_name,'bronze')}.{entity_name.lower().split('_inc')[0]}\")\n",
    "    crt_execute(entity_name,'bronze',truncate_flag=False,src_df=src_df)\n",
    "else:\n",
    "    pk = pk_map_bronze(entity_name.split('_inc')[0].lower())\n",
    "    SCD2(entity_name,pk=pk,ingestion_layer=\"silver\").execute_scd_2()"
   ]
  },
  {
   "cell_type": "code",
   "execution_count": 0,
   "metadata": {
    "application/vnd.databricks.v1+cell": {
     "cellMetadata": {
      "byteLimit": 2048000,
      "rowLimit": 10000
     },
     "inputWidgets": {},
     "nuid": "dc734caa-f174-49b0-bfec-8157e4524e45",
     "showTitle": false,
     "tableResultSettingsMap": {},
     "title": ""
    }
   },
   "outputs": [],
   "source": [
    "print(\"Silver Ingestion Completed\")"
   ]
  }
 ],
 "metadata": {
  "application/vnd.databricks.v1+notebook": {
   "computePreferences": null,
   "dashboards": [],
   "environmentMetadata": {
    "base_environment": "",
    "environment_version": "2"
   },
   "language": "python",
   "notebookMetadata": {
    "mostRecentlyExecutedCommandWithImplicitDF": {
     "commandId": 4917840883310874,
     "dataframes": [
      "_sqldf"
     ]
    },
    "pythonIndentUnit": 4
   },
   "notebookName": "Silver_Ingestion",
   "widgets": {
    "entity_name": {
     "currentValue": "Celeste_Products_incremental",
     "nuid": "c4ac17f0-e725-4ff9-a297-e6f5a39c24ec",
     "typedWidgetInfo": {
      "autoCreated": false,
      "defaultValue": "Arancione",
      "label": null,
      "name": "entity_name",
      "options": {
       "widgetDisplayType": "Text",
       "validationRegex": null
      },
      "parameterDataType": "String"
     },
     "widgetInfo": {
      "widgetType": "text",
      "defaultValue": "Arancione",
      "label": null,
      "name": "entity_name",
      "options": {
       "widgetType": "text",
       "autoCreated": false,
       "validationRegex": null
      }
     }
    }
   }
  },
  "language_info": {
   "name": "python"
  }
 },
 "nbformat": 4,
 "nbformat_minor": 0
}
