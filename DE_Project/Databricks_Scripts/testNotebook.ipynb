{
 "cells": [
  {
   "cell_type": "code",
   "execution_count": 0,
   "metadata": {
    "application/vnd.databricks.v1+cell": {
     "cellMetadata": {
      "byteLimit": 2048000,
      "implicitDf": true,
      "rowLimit": 10000
     },
     "inputWidgets": {},
     "nuid": "d949e07d-2056-4775-b9ac-86f1852dd792",
     "showTitle": false,
     "tableResultSettingsMap": {},
     "title": ""
    }
   },
   "outputs": [],
   "source": [
    "%sql\n",
    "select * from hive_metastore.bronze_incremental_schema.arancione\n",
    "where lastUpdateDate = (select max(lastUpdateDate) from hive_metastore.bronze_incremental_schema.arancione)"
   ]
  },
  {
   "cell_type": "code",
   "execution_count": 0,
   "metadata": {
    "application/vnd.databricks.v1+cell": {
     "cellMetadata": {
      "byteLimit": 2048000,
      "implicitDf": true,
      "rowLimit": 10000
     },
     "inputWidgets": {},
     "nuid": "4620dc40-ae61-43ae-b2be-303edbb407c0",
     "showTitle": false,
     "tableResultSettingsMap": {},
     "title": ""
    }
   },
   "outputs": [],
   "source": [
    "%sql\n",
    "select distinct * from hive_metastore.silver_incremental_schema.celeste"
   ]
  },
  {
   "cell_type": "code",
   "execution_count": 0,
   "metadata": {
    "application/vnd.databricks.v1+cell": {
     "cellMetadata": {
      "byteLimit": 2048000,
      "rowLimit": 10000
     },
     "inputWidgets": {},
     "nuid": "c8aa1fcf-4535-41f9-a12e-890a06397e53",
     "showTitle": false,
     "tableResultSettingsMap": {},
     "title": ""
    }
   },
   "outputs": [],
   "source": [
    "from pyspark.sql.functions import lit,current_timestamp\n",
    "from pyspark.sql.types import TimestampType"
   ]
  },
  {
   "cell_type": "code",
   "execution_count": 0,
   "metadata": {
    "application/vnd.databricks.v1+cell": {
     "cellMetadata": {
      "byteLimit": 2048000,
      "rowLimit": 10000
     },
     "inputWidgets": {},
     "nuid": "964580f0-307d-4c78-8c55-4562042260b1",
     "showTitle": false,
     "tableResultSettingsMap": {},
     "title": ""
    }
   },
   "outputs": [],
   "source": [
    "entity_name = 'Arancione_incremental'\n",
    "\n",
    "tgt_df = spark.read.table(f\"hive_metastore.silver_incremental_schema.{entity_name.split('_inc')[0]}\").filter('end_date is null').filter('ArancioneID=2')\n",
    "\n",
    "src_df = spark.read.table(f\"hive_metastore.bronze_incremental_schema.{entity_name.split('_inc')[0]}\").withColumnRenamed(\"lastUpdateDate\", \"sourceLastUpdateDate\").filter('ArancioneID=2').withColumn('Score',lit(100))\n",
    "\n",
    "scd2_cond = \" OR \".join(\n",
    "            [\n",
    "                f\"target.{u_col} != source.{u_col}\"\n",
    "                for u_col in src_df.columns\n",
    "                if u_col not in [\"processing_dttm\"] + ['ArancioneID']\n",
    "            ]\n",
    "        )\n",
    "\n",
    "tgt_df.registerTempTable('target_table')\n",
    "src_df.registerTempTable('source_table')\n",
    "\n",
    "src_df.display()\n",
    "tgt_df.display()\n",
    "query =   f'''\n",
    "    select source.* from source_table source inner join target_table target on source.ArancioneID=target.ArancioneID and\n",
    "    ({scd2_cond})\n",
    "    '''\n",
    "\n",
    "\n",
    "ingest_df = spark.sql(query)\n",
    "ingest_df = ingest_df.withColumn('start_date',current_timestamp())\n",
    "ingest_df = ingest_df.withColumn(\"end_date\", lit(None).cast(TimestampType()))\n",
    "\n",
    "ingest_df = ingest_df.union(tgt_df)\n",
    "display(ingest_df)\n",
    "\n",
    "# ingest_df.write.mode(\"append\").saveAsTable(f\"hive_metastore.silver_incremental_schema.{self.entity_name.split('_inc')[0]}\")"
   ]
  },
  {
   "cell_type": "code",
   "execution_count": 0,
   "metadata": {
    "application/vnd.databricks.v1+cell": {
     "cellMetadata": {
      "byteLimit": 2048000,
      "implicitDf": true,
      "rowLimit": 10000
     },
     "inputWidgets": {},
     "nuid": "08c66ab7-dba6-4762-9556-726e1e108825",
     "showTitle": false,
     "tableResultSettingsMap": {},
     "title": ""
    }
   },
   "outputs": [],
   "source": [
    "%sql\n",
    "drop table hive_metastore.silver_incremental_schema.arancione"
   ]
  },
  {
   "cell_type": "code",
   "execution_count": 0,
   "metadata": {
    "application/vnd.databricks.v1+cell": {
     "cellMetadata": {
      "byteLimit": 2048000,
      "rowLimit": 10000
     },
     "inputWidgets": {},
     "nuid": "887ce47b-2142-4e67-a4f0-4ad64817e48a",
     "showTitle": false,
     "tableResultSettingsMap": {},
     "title": ""
    }
   },
   "outputs": [],
   "source": [
    "spark.sql('select CURRENT_TIMESTAMP as current_ts').collect()[0][0].isoformat()"
   ]
  }
 ],
 "metadata": {
  "application/vnd.databricks.v1+notebook": {
   "computePreferences": null,
   "dashboards": [],
   "environmentMetadata": {
    "base_environment": "",
    "environment_version": "2"
   },
   "language": "python",
   "notebookMetadata": {
    "mostRecentlyExecutedCommandWithImplicitDF": {
     "commandId": 5484845381311996,
     "dataframes": [
      "_sqldf"
     ]
    },
    "pythonIndentUnit": 4
   },
   "notebookName": "testNotebook",
   "widgets": {}
  },
  "language_info": {
   "name": "python"
  }
 },
 "nbformat": 4,
 "nbformat_minor": 0
}
